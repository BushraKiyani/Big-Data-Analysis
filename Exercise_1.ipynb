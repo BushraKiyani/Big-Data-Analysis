{
 "cells": [
  {
   "cell_type": "markdown",
   "metadata": {},
   "source": [
    "# Sheet 1 - Practical Exercise\n",
    "The datasets we will be using throughout the practical exercises of this course are subsets of the *FIFA 20 complete player dataset* from kaggle.com, which is extracted from the latest edition of FIFA, a football simulation game. In this dataset the player's attributes like personal data (e.g. Nationality, Club, Age, Value, …) and performances (e.g. Agression, Agility, Overall, Potential, …) are collected. (See [FIFA 20 complete player dataset](https://www.kaggle.com/stefanoleone992/fifa-20-complete-player-dataset?select=players_20.csv) for details.)\n",
    "\n",
    "For the individual tasks we provide you with preprocessed data."
   ]
  },
  {
   "cell_type": "markdown",
   "metadata": {},
   "source": []
  },
  {
   "cell_type": "markdown",
   "metadata": {},
   "source": [
    "Before we start with the actual exercises make sure that you have imported all packages that you need, and loaded the dataset."
   ]
  },
  {
   "cell_type": "code",
   "execution_count": 2,
   "metadata": {},
   "outputs": [],
   "source": [
    "import numpy as np\n",
    "import pandas as pd\n",
    "import timeit"
   ]
  },
  {
   "cell_type": "markdown",
   "metadata": {},
   "source": [
    "## Exercise 1\n"
   ]
  },
  {
   "cell_type": "markdown",
   "metadata": {},
   "source": [
    "First create a smaller Dataframe containing only the columns relevant for the coming exercises. These columns are:\n",
    "- ``short_name``\n",
    "- ``age``\n",
    "- ``club``\n",
    "- ``overall``\n",
    "- ``potential``\n",
    "- ``value_eur``\n",
    "- ``wage_eur``\n",
    "- ``team_position``"
   ]
  },
  {
   "cell_type": "code",
   "execution_count": 3,
   "metadata": {},
   "outputs": [
    {
     "data": {
      "text/html": [
       "<div>\n",
       "<style scoped>\n",
       "    .dataframe tbody tr th:only-of-type {\n",
       "        vertical-align: middle;\n",
       "    }\n",
       "\n",
       "    .dataframe tbody tr th {\n",
       "        vertical-align: top;\n",
       "    }\n",
       "\n",
       "    .dataframe thead th {\n",
       "        text-align: right;\n",
       "    }\n",
       "</style>\n",
       "<table border=\"1\" class=\"dataframe\">\n",
       "  <thead>\n",
       "    <tr style=\"text-align: right;\">\n",
       "      <th></th>\n",
       "      <th>short_name</th>\n",
       "      <th>age</th>\n",
       "      <th>club</th>\n",
       "      <th>overall</th>\n",
       "      <th>potential</th>\n",
       "      <th>value_eur</th>\n",
       "      <th>wage_eur</th>\n",
       "      <th>team_position</th>\n",
       "    </tr>\n",
       "  </thead>\n",
       "  <tbody>\n",
       "    <tr>\n",
       "      <th>0</th>\n",
       "      <td>L. Messi</td>\n",
       "      <td>32</td>\n",
       "      <td>FC Barcelona</td>\n",
       "      <td>94</td>\n",
       "      <td>94</td>\n",
       "      <td>95500000</td>\n",
       "      <td>565000</td>\n",
       "      <td>RW</td>\n",
       "    </tr>\n",
       "    <tr>\n",
       "      <th>1</th>\n",
       "      <td>Cristiano Ronaldo</td>\n",
       "      <td>34</td>\n",
       "      <td>Juventus</td>\n",
       "      <td>93</td>\n",
       "      <td>93</td>\n",
       "      <td>58500000</td>\n",
       "      <td>405000</td>\n",
       "      <td>LW</td>\n",
       "    </tr>\n",
       "    <tr>\n",
       "      <th>2</th>\n",
       "      <td>Neymar Jr</td>\n",
       "      <td>27</td>\n",
       "      <td>Paris Saint-Germain</td>\n",
       "      <td>92</td>\n",
       "      <td>92</td>\n",
       "      <td>105500000</td>\n",
       "      <td>290000</td>\n",
       "      <td>CAM</td>\n",
       "    </tr>\n",
       "    <tr>\n",
       "      <th>3</th>\n",
       "      <td>J. Oblak</td>\n",
       "      <td>26</td>\n",
       "      <td>Atlético Madrid</td>\n",
       "      <td>91</td>\n",
       "      <td>93</td>\n",
       "      <td>77500000</td>\n",
       "      <td>125000</td>\n",
       "      <td>GK</td>\n",
       "    </tr>\n",
       "    <tr>\n",
       "      <th>4</th>\n",
       "      <td>E. Hazard</td>\n",
       "      <td>28</td>\n",
       "      <td>Real Madrid</td>\n",
       "      <td>91</td>\n",
       "      <td>91</td>\n",
       "      <td>90000000</td>\n",
       "      <td>470000</td>\n",
       "      <td>LW</td>\n",
       "    </tr>\n",
       "  </tbody>\n",
       "</table>\n",
       "</div>"
      ],
      "text/plain": [
       "          short_name  age                 club  overall  potential  value_eur  \\\n",
       "0           L. Messi   32         FC Barcelona       94         94   95500000   \n",
       "1  Cristiano Ronaldo   34             Juventus       93         93   58500000   \n",
       "2          Neymar Jr   27  Paris Saint-Germain       92         92  105500000   \n",
       "3           J. Oblak   26      Atlético Madrid       91         93   77500000   \n",
       "4          E. Hazard   28          Real Madrid       91         91   90000000   \n",
       "\n",
       "   wage_eur team_position  \n",
       "0    565000            RW  \n",
       "1    405000            LW  \n",
       "2    290000           CAM  \n",
       "3    125000            GK  \n",
       "4    470000            LW  "
      ]
     },
     "execution_count": 3,
     "metadata": {},
     "output_type": "execute_result"
    }
   ],
   "source": [
    "fifa_20 = pd.read_csv(\"fifa_20.csv\")\n",
    "smaller_fifa_df = fifa_20[['short_name','age','club','overall','potential','value_eur','wage_eur','team_position']]\n",
    "smaller_fifa_df.head()"
   ]
  },
  {
   "cell_type": "markdown",
   "metadata": {},
   "source": [
    "Next write a scaler to scale the values of a column to an interval between a new minimum and maximum value.  \n",
    "It should use the following signature:\n",
    "\n",
    "_Hint: Do **not** use a loop over all entries of the column! What other ways are there to manipulate columnar data?_"
   ]
  },
  {
   "cell_type": "code",
   "execution_count": 4,
   "metadata": {},
   "outputs": [],
   "source": [
    "def my_scaler(column,min_val,max_val):\n",
    "    max_val_old = column.max()\n",
    "    min_val_old = column.min()\n",
    "    column_std = (max_val - min_val)/(max_val_old - min_val_old)\n",
    "    scaled_column = column_std * (column - min_val_old) + min_val\n",
    "    return scaled_column"
   ]
  },
  {
   "cell_type": "markdown",
   "metadata": {},
   "source": [
    "To achieve this your scaler can implement the formula:  \n",
    "$$\\frac{max_{new}-min_{new}}{max_{old}-min_{old}}\\cdot (v-min_{old})+min_{new}$$\n",
    "where $max_{new}$ and $min_{new}$ are the new boundaries of the values, $max_{old}$ and $min_{old}$ are the old boundaries and $v$ is a value from the column that will be scaled."
   ]
  },
  {
   "cell_type": "markdown",
   "metadata": {},
   "source": [
    "* Now use your scaler on the column ``value_eur`` and scale it to an interval between $0$ and $100$.  \n",
    "* Then take the new values for the ``value_eur`` und turn them into discrete values. If a player is below $25$ he should be categorized as ``low``, between $25$ and $50$ he should be categorized as ``low_average`` then between $50$ and $75$ as ``high_average`` and finally any that are above $75$ should be categorized as ``high``.  \n",
    "* Finally create a histogram to show the distribution of the players' value."
   ]
  },
  {
   "cell_type": "code",
   "execution_count": 5,
   "metadata": {},
   "outputs": [
    {
     "name": "stdout",
     "output_type": "stream",
     "text": [
      "0         90.521327\n",
      "1         55.450237\n",
      "2        100.000000\n",
      "3         73.459716\n",
      "4         85.308057\n",
      "            ...    \n",
      "18273      0.037915\n",
      "18274      0.037915\n",
      "18275      0.037915\n",
      "18276      0.037915\n",
      "18277      0.037915\n",
      "Name: value_eur, Length: 18278, dtype: float64\n"
     ]
    }
   ],
   "source": [
    "scaled_value_eur = my_scaler(smaller_fifa_df['value_eur'], 0, 100)\n",
    "print (scaled_value_eur)"
   ]
  },
  {
   "cell_type": "code",
   "execution_count": 6,
   "metadata": {
    "scrolled": true
   },
   "outputs": [
    {
     "name": "stdout",
     "output_type": "stream",
     "text": [
      "0                high\n",
      "1        high_average\n",
      "2                high\n",
      "3        high_average\n",
      "4                high\n",
      "             ...     \n",
      "18273             low\n",
      "18274             low\n",
      "18275             low\n",
      "18276             low\n",
      "18277             low\n",
      "Name: value_eur, Length: 18278, dtype: category\n",
      "Categories (4, object): [low < low_average < high_average < high]\n"
     ]
    }
   ],
   "source": [
    "discrete_value_eur = pd.cut(scaled_value_eur, bins=4, labels=['low','low_average','high_average', 'high' ], right=False)\n",
    "print(discrete_value_eur)"
   ]
  },
  {
   "cell_type": "code",
   "execution_count": 7,
   "metadata": {},
   "outputs": [
    {
     "data": {
      "image/png": "[encoded data removed]",
      "text/plain": [
       "<Figure size 432x288 with 1 Axes>"
      ]
     },
     "metadata": {
      "needs_background": "light"
     },
     "output_type": "display_data"
    }
   ],
   "source": [
    "import matplotlib.pyplot as plt\n",
    "\n",
    "# An \"interface\" to matplotlib.axes.Axes.hist() method\n",
    "_ = plt.hist(discrete_value_eur, bins='auto')  # arguments are passed to np.histogram, \n",
    "plt.grid(axis='y', alpha=0.75)\n",
    "plt.xlabel('Category')\n",
    "plt.ylabel('Salary')\n",
    "plt.title(\"Distribution of the players' value.\")\n",
    "plt.Text(0.5, 1.0, \"Distribution of the players' value.\")\n",
    "plt.show()"
   ]
  },
  {
   "cell_type": "markdown",
   "metadata": {},
   "source": [
    "## Exercise 2"
   ]
  },
  {
   "cell_type": "markdown",
   "metadata": {},
   "source": [
    "Create a new column called ``leftover-potential`` which shows the difference between the value of ``overall`` and the value of ``potential``, to show how much more a given player can still grow."
   ]
  },
  {
   "cell_type": "code",
   "execution_count": 10,
   "metadata": {},
   "outputs": [],
   "source": [
    "smaller_fifa_df.loc[:,(\"leftover-potential\")] = smaller_fifa_df.loc[:,(\"potential\")] - smaller_fifa_df.loc[:, (\"overall\")]"
   ]
  },
  {
   "cell_type": "markdown",
   "metadata": {},
   "source": [
    "Next create a histogram that shows how often how much potential is still left over."
   ]
  },
  {
   "cell_type": "code",
   "execution_count": 87,
   "metadata": {},
   "outputs": [
    {
     "data": {
      "image/png": "[encoded data removed]",
      "text/plain": [
       "<Figure size 432x288 with 1 Axes>"
      ]
     },
     "metadata": {
      "needs_background": "light"
     },
     "output_type": "display_data"
    }
   ],
   "source": [
    "_ = plt.hist(smaller_fifa_df[\"leftover-potential\"], bins='auto')  # arguments are passed to np.histogram, \n",
    "plt.grid(axis='y', alpha=0.75)\n",
    "plt.xlabel('Leftover-Potential')\n",
    "plt.ylabel('Frequency')\n",
    "plt.title(\"Histogram Showing left over potential\")\n",
    "plt.Text(0.5, 1.0, \"Histogram Showing left over potential\")\n",
    "plt.show()"
   ]
  },
  {
   "cell_type": "markdown",
   "metadata": {},
   "source": [
    "## Exercise 3"
   ]
  },
  {
   "cell_type": "markdown",
   "metadata": {},
   "source": [
    "Group the players by the club they are playing for. Then calculate the average of the ``overall`` column for each team.  "
   ]
  },
  {
   "cell_type": "code",
   "execution_count": 127,
   "metadata": {},
   "outputs": [
    {
     "name": "stdout",
     "output_type": "stream",
     "text": [
      "                       overall_mean\n",
      "club                               \n",
      " SSV Jahn Regensburg      64.680000\n",
      "1. FC Heidenheim 1846     65.793103\n",
      "1. FC Kaiserslautern      63.750000\n",
      "1. FC Köln                71.612903\n",
      "1. FC Magdeburg           64.333333\n",
      "...                             ...\n",
      "Zagłębie Lubin            61.600000\n",
      "Çaykur Rizespor           67.608696\n",
      "Örebro SK                 60.814815\n",
      "Östersunds FK             60.851852\n",
      "Śląsk Wrocław             57.000000\n",
      "\n",
      "[698 rows x 1 columns]\n"
     ]
    }
   ],
   "source": [
    "group_by_club = smaller_fifa_df.groupby('club').agg(overall_mean =('overall', 'mean'))\n",
    "print(group_by_club)"
   ]
  },
  {
   "cell_type": "markdown",
   "metadata": {},
   "source": [
    "Then print the five Teams with the highest as well as the five teams with the lowest average ``overall`` value, so we can see which teams are the strongest and which teams are the weakest."
   ]
  },
  {
   "cell_type": "code",
   "execution_count": 139,
   "metadata": {},
   "outputs": [
    {
     "name": "stdout",
     "output_type": "stream",
     "text": [
      "Strongest Teams are:\n",
      "                   overall_mean\n",
      "club                           \n",
      "FC Bayern München     81.304348\n",
      "Real Madrid           80.121212\n",
      "Juventus              80.060606\n",
      "Uruguay               78.608696\n",
      "FC Barcelona          78.363636\n",
      " \n",
      "Weakest Teams are:\n",
      "                  overall_mean\n",
      "club                          \n",
      "Bolton Wanderers     56.086957\n",
      "Waterford FC         55.850000\n",
      "Crewe Alexandra      55.800000\n",
      "Finn Harps           55.280000\n",
      "UCD AFC              53.428571\n"
     ]
    }
   ],
   "source": [
    "teams_strength = group_by_club.sort_values('overall_mean', ascending= False)\n",
    "print(\"Strongest Teams are:\")\n",
    "print (teams_strength.head(5))\n",
    "print(\" \")\n",
    "print(\"Weakest Teams are:\")\n",
    "print (teams_strength.tail(5))"
   ]
  },
  {
   "cell_type": "markdown",
   "metadata": {},
   "source": [
    "Next determine the sum of the ``wages`` of each team. Print the five teams with the highest total ``wages`` and the five teams with the lowest total ``wages``, but only those that spend more than 0€ in total."
   ]
  },
  {
   "cell_type": "code",
   "execution_count": 151,
   "metadata": {},
   "outputs": [
    {
     "name": "stdout",
     "output_type": "stream",
     "text": [
      "                       wages_sum\n",
      "club                            \n",
      " SSV Jahn Regensburg      103000\n",
      "1. FC Heidenheim 1846     151000\n",
      "1. FC Kaiserslautern       45000\n",
      "1. FC Köln                539000\n",
      "1. FC Magdeburg            46000\n",
      "...                          ...\n",
      "Zagłębie Lubin             39000\n",
      "Çaykur Rizespor           149000\n",
      "Örebro SK                  38000\n",
      "Östersunds FK              34000\n",
      "Śląsk Wrocław               1000\n",
      "\n",
      "[698 rows x 1 columns]\n"
     ]
    }
   ],
   "source": [
    "sum_of_wages_of_teams = smaller_fifa_df.groupby('club').agg(wages_sum =('wage_eur','sum'))\n",
    "print(sum_of_wages_of_teams)"
   ]
  },
  {
   "cell_type": "code",
   "execution_count": 156,
   "metadata": {},
   "outputs": [
    {
     "name": "stdout",
     "output_type": "stream",
     "text": [
      "Greatest Spenders are:\n",
      "                   wages_sum\n",
      "club                        \n",
      "Real Madrid          5354000\n",
      "FC Barcelona         4950000\n",
      "Manchester City      3984000\n",
      "Juventus             3750000\n",
      "Manchester United    2874000\n",
      " \n",
      "Lowest Spenders are:\n",
      "                            wages_sum\n",
      "club                                 \n",
      "Wellington Phoenix               4000\n",
      "Seongnam FC                      1000\n",
      "GIF Sundsvall                    1000\n",
      "US Orléans Loiret Football       1000\n",
      "Śląsk Wrocław                    1000\n"
     ]
    }
   ],
   "source": [
    "club_wise_wages = sum_of_wages_of_teams[sum_of_wages_of_teams['wages_sum'] != 0].sort_values('wages_sum', ascending= False)\n",
    "print(\"Greatest Spenders are:\")\n",
    "print (club_wise_wages.head(5))\n",
    "print(\" \")\n",
    "print(\"Lowest Spenders are:\")\n",
    "print (club_wise_wages.tail(5))"
   ]
  },
  {
   "cell_type": "markdown",
   "metadata": {},
   "source": [
    "Do the greatest spenders and strongest teams match up? What about the lowest spenders and the weakest teams?"
   ]
  },
  {
   "cell_type": "code",
   "execution_count": null,
   "metadata": {},
   "outputs": [],
   "source": []
  }
 ],
 "metadata": {
  "kernelspec": {
   "display_name": "Python 3",
   "language": "python",
   "name": "python3"
  },
  "language_info": {
   "codemirror_mode": {
    "name": "ipython",
    "version": 3
   },
   "file_extension": ".py",
   "mimetype": "text/x-python",
   "name": "python",
   "nbconvert_exporter": "python",
   "pygments_lexer": "ipython3",
   "version": "3.9.12"
  }
 },
 "nbformat": 4,
 "nbformat_minor": 4
}
